{
 "cells": [
  {
   "cell_type": "markdown",
   "metadata": {},
   "source": [
    "# Git Parser"
   ]
  },
  {
   "cell_type": "code",
   "execution_count": 91,
   "metadata": {},
   "outputs": [],
   "source": [
    "import os\n",
    "import git\n",
    "import shutil\n",
    "import tldextract\n",
    "\n",
    "from git import Repo\n",
    "from contextlib import suppress"
   ]
  },
  {
   "cell_type": "code",
   "execution_count": 137,
   "metadata": {},
   "outputs": [],
   "source": [
    "# set up variables\n",
    "dst = 'data/files'\n",
    "domain_list = ['github.com', 'gitlab.com', 'bitbucket.org']"
   ]
  },
  {
   "cell_type": "code",
   "execution_count": 132,
   "metadata": {},
   "outputs": [],
   "source": [
    "def copydata(src, dst, symlinks=False, ignore=None):\n",
    "    \"\"\"\n",
    "    Copy directory with files inside from src to dst\n",
    "    \"\"\"\n",
    "    for item in os.listdir(src):\n",
    "        s = os.path.join(src, item)\n",
    "        d = os.path.join(dst, item)\n",
    "        if os.path.isdir(s):\n",
    "            shutil.copytree(s, d, symlinks, ignore)\n",
    "        else:\n",
    "            shutil.copy2(s, d)\n",
    "\n",
    "            \n",
    "def dir_from_repo(url, dst):\n",
    "    \"\"\"\n",
    "    \"\"\"\n",
    "    # check if domain is correct\n",
    "    domain = f\"{tldextract.extract(url).domain}.{tldextract.extract(url).suffix}\"\n",
    "    if domain in domain_list:\n",
    "        # get repo data\n",
    "        url_split = url.split(\"/\", 7)\n",
    "        dir_path = url_split[7]\n",
    "        branch = url_split[6]\n",
    "        repo_url = \"/\".join(url_split[:5])\n",
    "\n",
    "        # clone repo\n",
    "        Repo.clone_from(repo_url, os.path.join(dst, '_tmp'), branch=branch)\n",
    "\n",
    "        # copy data & remove other files\n",
    "        copydata(os.path.join(dst, '_tmp', dir_path), dst)\n",
    "        shutil.rmtree(os.path.join(dst, '_tmp'))\n",
    "\n",
    "\n",
    "def parse_repo(url, dst_path):\n",
    "    \"\"\"\n",
    "    Parse repository 'url' and save files in 'dst_path'.\n",
    "    \n",
    "    :param url : string with the url to the repository\n",
    "    :param dst_path : string path to the destination directory where files should be stored\n",
    "    :return : Boolean True when eveything is ok, else False\n",
    "    \"\"\"\n",
    "    # Clone if Repo\n",
    "    with suppress(Exception): # or, better, a more specific error (or errors)\n",
    "        Repo.clone_from(url, dst)\n",
    "        return \"Repo cloned.\"\n",
    "\n",
    "    # Download if directory\n",
    "    with suppress(Exception):\n",
    "        dir_from_repo(url, dst)\n",
    "        return \"Repo with specified directory downloaded\"\n",
    "\n",
    "    return \"Please provide a correct url\""
   ]
  },
  {
   "cell_type": "code",
   "execution_count": 138,
   "metadata": {},
   "outputs": [
    {
     "data": {
      "text/plain": [
       "'Repo cloned.'"
      ]
     },
     "execution_count": 138,
     "metadata": {},
     "output_type": "execute_result"
    }
   ],
   "source": [
    "# CASE 1\n",
    "url = 'https://github.com/vercel/next.js.git'\n",
    "parse_repo(url, dst)"
   ]
  },
  {
   "cell_type": "code",
   "execution_count": 140,
   "metadata": {},
   "outputs": [
    {
     "name": "stdout",
     "output_type": "stream",
     "text": [
      "clone\n"
     ]
    },
    {
     "data": {
      "text/plain": [
       "'Repo with specified directory downloaded'"
      ]
     },
     "execution_count": 140,
     "metadata": {},
     "output_type": "execute_result"
    }
   ],
   "source": [
    "# CASE 2\n",
    "url = 'https://github.com/vercel/next.js/tree/alpha/examples/basic-css'\n",
    "parse_repo(url, dst)"
   ]
  },
  {
   "cell_type": "code",
   "execution_count": 141,
   "metadata": {},
   "outputs": [
    {
     "data": {
      "text/plain": [
       "'Please provide a correct url'"
      ]
     },
     "execution_count": 141,
     "metadata": {},
     "output_type": "execute_result"
    }
   ],
   "source": [
    "# CASE 3\n",
    "url = 'https://github.com/vercel'\n",
    "parse_repo(url, dst)"
   ]
  },
  {
   "cell_type": "code",
   "execution_count": null,
   "metadata": {},
   "outputs": [],
   "source": []
  }
 ],
 "metadata": {
  "kernelspec": {
   "display_name": "Python 3",
   "language": "python",
   "name": "python3"
  },
  "language_info": {
   "codemirror_mode": {
    "name": "ipython",
    "version": 3
   },
   "file_extension": ".py",
   "mimetype": "text/x-python",
   "name": "python",
   "nbconvert_exporter": "python",
   "pygments_lexer": "ipython3",
   "version": "3.6.9"
  }
 },
 "nbformat": 4,
 "nbformat_minor": 4
}
